{
 "cells": [
  {
   "cell_type": "markdown",
   "id": "5225718b-6b66-44f1-84cb-5cdfd1f7d253",
   "metadata": {},
   "source": [
    "# Mini project(Detect heart diease)"
   ]
  },
  {
   "cell_type": "code",
   "execution_count": 2,
   "id": "e6b3a58a-d5ba-4bfa-9217-824e7416e24e",
   "metadata": {},
   "outputs": [],
   "source": [
    "import pandas as pd\n",
    "from sklearn.model_selection import train_test_split\n",
    "from sklearn.ensemble import RandomForestClassifier\n",
    "from sklearn.preprocessing import StandardScaler\n",
    "from IPython.display import display, HTML\n"
   ]
  },
  {
   "cell_type": "code",
   "execution_count": 4,
   "id": "abf2ae94-e606-4b46-a4e8-6bb6cf97804d",
   "metadata": {},
   "outputs": [
    {
     "data": {
      "text/plain": [
       "<bound method NDFrame.head of      age  sex  cp  trestbps  chol  fbs  restecg  thalach  exang  oldpeak  \\\n",
       "0     63    1   3       145   233    1        0      150      0      2.3   \n",
       "1     37    1   2       130   250    0        1      187      0      3.5   \n",
       "2     41    0   1       130   204    0        0      172      0      1.4   \n",
       "3     56    1   1       120   236    0        1      178      0      0.8   \n",
       "4     57    0   0       120   354    0        1      163      1      0.6   \n",
       "..   ...  ...  ..       ...   ...  ...      ...      ...    ...      ...   \n",
       "298   57    0   0       140   241    0        1      123      1      0.2   \n",
       "299   45    1   3       110   264    0        1      132      0      1.2   \n",
       "300   68    1   0       144   193    1        1      141      0      3.4   \n",
       "301   57    1   0       130   131    0        1      115      1      1.2   \n",
       "302   57    0   1       130   236    0        0      174      0      0.0   \n",
       "\n",
       "     slope  ca  thal  target  \n",
       "0        0   0     1       1  \n",
       "1        0   0     2       1  \n",
       "2        2   0     2       1  \n",
       "3        2   0     2       1  \n",
       "4        2   0     2       1  \n",
       "..     ...  ..   ...     ...  \n",
       "298      1   0     3       0  \n",
       "299      1   0     3       0  \n",
       "300      1   2     3       0  \n",
       "301      1   1     3       0  \n",
       "302      1   1     2       0  \n",
       "\n",
       "[303 rows x 14 columns]>"
      ]
     },
     "execution_count": 4,
     "metadata": {},
     "output_type": "execute_result"
    }
   ],
   "source": [
    "df = pd.read_csv(\"heart.csv\")\n",
    "df.head"
   ]
  },
  {
   "cell_type": "code",
   "execution_count": 26,
   "id": "3997ec3d-2f58-4915-85c7-6ef1537727b1",
   "metadata": {},
   "outputs": [
    {
     "name": "stdin",
     "output_type": "stream",
     "text": [
      "Enter the 13 values:[age, sex, cp, trestbps, chol, fbs, restecg, thalach, exang, oldpeak, slope, ca, thal] 23,0,2,140,230,0,1,150,0,2.3,0,0,1\n"
     ]
    },
    {
     "data": {
      "text/html": [
       "<p style='font-size:40px;font-weight:bold; color:red;'>🔴 You may have heart disease.</p>"
      ],
      "text/plain": [
       "<IPython.core.display.HTML object>"
      ]
     },
     "metadata": {},
     "output_type": "display_data"
    }
   ],
   "source": [
    "#Main code \n",
    "X = df.drop('target', axis=1)   # Input features\n",
    "y = df['target']  # Output: 1 = yes, 0 = no\n",
    "\n",
    "X_train, X_test, y_train, y_test = train_test_split(X, y, test_size=0.2, random_state=42) # Split dataset\n",
    "\n",
    "# Scale\n",
    "scaler = StandardScaler()\n",
    "X_train = scaler.fit_transform(X_train)\n",
    "X_test = scaler.transform(X_test)\n",
    "\n",
    "# Train model\n",
    "model = RandomForestClassifier()\n",
    "model.fit(X_train, y_train)\n",
    "\n",
    "# Prediction function\n",
    "def show_prediction_result(prediction):\n",
    "    if prediction[0] == 1:\n",
    "       display(HTML(\"<p style='font-size:40px;font-weight:bold; color:red;'>🔴 You may have heart disease.</p>\"))\n",
    "\n",
    "    else:\n",
    "       display(HTML(\"<p style='font-size:40px;font-weight:bold; color:green;'>🟢 You don't have heart disease.</p>\"))\n",
    "       \n",
    "\n",
    "def predict_heart_disease(input_data):\n",
    "    \n",
    "    input_df = pd.DataFrame([input_data], columns=X.columns)  #Convert to DataFrame\n",
    "  \n",
    "    input_scaled = scaler.transform(input_df) #Scale user data just like training data \n",
    "\n",
    "    prediction = model.predict(input_scaled) #Predict\n",
    "    show_prediction_result(prediction)\n",
    "\n",
    "#(user_input)\n",
    "user_input = input(\"Enter the 13 values:[age, sex, cp, trestbps, chol, fbs, restecg, thalach, exang, oldpeak, slope, ca, thal]\")\n",
    "\n",
    "# Convert string to list\n",
    "user_input = eval(user_input)\n",
    "predict_heart_disease(user_input)\n"
   ]
  },
  {
   "cell_type": "code",
   "execution_count": null,
   "id": "820953bf-ba13-4260-81db-98eb9774ad92",
   "metadata": {},
   "outputs": [],
   "source": []
  }
 ],
 "metadata": {
  "kernelspec": {
   "display_name": "Python 3 (ipykernel)",
   "language": "python",
   "name": "python3"
  },
  "language_info": {
   "codemirror_mode": {
    "name": "ipython",
    "version": 3
   },
   "file_extension": ".py",
   "mimetype": "text/x-python",
   "name": "python",
   "nbconvert_exporter": "python",
   "pygments_lexer": "ipython3",
   "version": "3.13.2"
  }
 },
 "nbformat": 4,
 "nbformat_minor": 5
}
